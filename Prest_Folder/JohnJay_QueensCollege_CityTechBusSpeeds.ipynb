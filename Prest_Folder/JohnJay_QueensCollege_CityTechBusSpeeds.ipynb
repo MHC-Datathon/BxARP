{
  "nbformat": 4,
  "nbformat_minor": 0,
  "metadata": {
    "colab": {
      "provenance": []
    },
    "kernelspec": {
      "name": "python3",
      "display_name": "Python 3"
    },
    "language_info": {
      "name": "python"
    }
  },
  "cells": [
    {
      "cell_type": "code",
      "execution_count": null,
      "metadata": {
        "id": "MVM_dZTzeFf8"
      },
      "outputs": [],
      "source": [
        "import pandas as pd\n",
        "import altair as alt\n",
        "\n",
        "jj_2025 = pd.read_csv('/content/John_Jay_Bus_Routes_25.csv')\n",
        "jj_2023_2024 = pd.read_csv('/content/John_Jay_Bus_Routes_23_24.csv')"
      ]
    },
    {
      "cell_type": "code",
      "source": [
        "# This function filters the combined df to contain bus routes' average speed in both 2023/2024 and 2025\n",
        "def filter_routes(combined_df, list):\n",
        "    filtered_df = combined_df[combined_df['Route ID'].isin(list)].copy()\n",
        "    filtered_df['Timestamp'] = pd.to_datetime(filtered_df['Timestamp'], format='%m/%d/%Y %I:%M:%S %p')\n",
        "    filtered_df['Month_Year'] = filtered_df['Timestamp'].dt.to_period('M')\n",
        "    filtered_df_average = filtered_df.groupby(['Month_Year', 'Route ID'])['Average Road Speed'].mean().reset_index()\n",
        "    filtered_df_average = filtered_df_average.sort_values('Month_Year')\n",
        "    filtered_df_average['Month_Year'] = filtered_df_average['Month_Year'].astype(str)\n",
        "    return filtered_df_average\n",
        "\n",
        "def create_line_plot(df, list, df_title):\n",
        "  chart = alt.Chart(df).mark_line(point=True).encode(\n",
        "    x=alt.X('Month_Year', sort=df['Month_Year'].unique(), title='Month/Year'),\n",
        "    y=alt.Y('Average Road Speed', title='Average Road Speed (mph)', scale=alt.Scale(domain=[0,10])),\n",
        "    color=alt.Color('Route ID', scale=alt.Scale(range=['orange', 'blue'])), # Added a simple color scale\n",
        "    tooltip=['Month_Year', 'Route ID', 'Average Road Speed']\n",
        "  ).properties(\n",
        "    title=df_title\n",
        "  ).interactive()\n",
        "  chart.display()"
      ],
      "metadata": {
        "id": "omZvEAbpepe8"
      },
      "execution_count": null,
      "outputs": []
    },
    {
      "cell_type": "code",
      "source": [
        "\n",
        "# Combine dataframes\n",
        "jj_combined = pd.concat([jj_2023_2024, jj_2025], ignore_index=True)\n",
        "jj_avg_combined = filter_routes(jj_combined, ['M2', 'M11'])\n",
        "# Create the line plot\n",
        "create_line_plot(jj_avg_combined, ['M2', 'M11'], 'John Jay College: Bus Routes M2(ACE) vs M11 (Non ACE)')"
      ],
      "metadata": {
        "id": "aHWtxogJBSeQ"
      },
      "execution_count": null,
      "outputs": []
    },
    {
      "cell_type": "code",
      "source": [
        "queens_2025 = pd.read_csv('/Queens_College_Bus_Routes_25.csv')\n",
        "queens_2023_2024 = pd.read_csv('/Queens_College_Bus_Routes_23_24.csv')"
      ],
      "metadata": {
        "id": "gXch4QU6fnes"
      },
      "execution_count": null,
      "outputs": []
    },
    {
      "cell_type": "code",
      "source": [
        "queens_combined = pd.concat([queens_2023_2024, queens_2025], ignore_index=True)\n",
        "queens_avg_combined = filter_routes(queens_combined, ['Q17','Q44+'])\n",
        "create_line_plot(queens_avg_combined, ['Q17','Q44+'], 'Queens College: Bus Routes Q44-SBS (ACE) vs Q17(Non ACE)')"
      ],
      "metadata": {
        "id": "7NzGIu0ej8Iy"
      },
      "execution_count": null,
      "outputs": []
    },
    {
      "cell_type": "code",
      "source": [
        "city_tech_bus_25 = pd.read_csv('/content/City_Tech_Route_23_24.csv')\n",
        "city_tech_bus_23_24 = pd.read_csv('/content/City_Tech_Route_25.csv')"
      ],
      "metadata": {
        "id": "ZK93hyzUk4al"
      },
      "execution_count": null,
      "outputs": []
    },
    {
      "cell_type": "code",
      "source": [
        "city_tech_combined = pd.concat([city_tech_bus_23_24, city_tech_bus_25], ignore_index=True)\n",
        "city_tech_avg_combined = filter_routes(city_tech_combined, ['B26', 'B52'])\n",
        "\n",
        "create_line_plot(city_tech_avg_combined, ['B26', 'B52'], 'New York City of Technology: Bus Routes B26 (ACE) vs B52 (Non ACE)')"
      ],
      "metadata": {
        "colab": {
          "base_uri": "https://localhost:8080/",
          "height": 412
        },
        "id": "66cNxyaLggZb",
        "outputId": "93c65500-dcd5-47bc-9f83-aec65ad65f9f"
      },
      "execution_count": null,
      "outputs": [
        {
          "output_type": "display_data",
          "data": {
            "text/html": [
              "\n",
              "<style>\n",
              "  #altair-viz-d3fb595c8a3d478f8d6e05ef082bb8c1.vega-embed {\n",
              "    width: 100%;\n",
              "    display: flex;\n",
              "  }\n",
              "\n",
              "  #altair-viz-d3fb595c8a3d478f8d6e05ef082bb8c1.vega-embed details,\n",
              "  #altair-viz-d3fb595c8a3d478f8d6e05ef082bb8c1.vega-embed details summary {\n",
              "    position: relative;\n",
              "  }\n",
              "</style>\n",
              "<div id=\"altair-viz-d3fb595c8a3d478f8d6e05ef082bb8c1\"></div>\n",
              "<script type=\"text/javascript\">\n",
              "  var VEGA_DEBUG = (typeof VEGA_DEBUG == \"undefined\") ? {} : VEGA_DEBUG;\n",
              "  (function(spec, embedOpt){\n",
              "    let outputDiv = document.currentScript.previousElementSibling;\n",
              "    if (outputDiv.id !== \"altair-viz-d3fb595c8a3d478f8d6e05ef082bb8c1\") {\n",
              "      outputDiv = document.getElementById(\"altair-viz-d3fb595c8a3d478f8d6e05ef082bb8c1\");\n",
              "    }\n",
              "\n",
              "    const paths = {\n",
              "      \"vega\": \"https://cdn.jsdelivr.net/npm/vega@5?noext\",\n",
              "      \"vega-lib\": \"https://cdn.jsdelivr.net/npm/vega-lib?noext\",\n",
              "      \"vega-lite\": \"https://cdn.jsdelivr.net/npm/vega-lite@5.20.1?noext\",\n",
              "      \"vega-embed\": \"https://cdn.jsdelivr.net/npm/vega-embed@6?noext\",\n",
              "    };\n",
              "\n",
              "    function maybeLoadScript(lib, version) {\n",
              "      var key = `${lib.replace(\"-\", \"\")}_version`;\n",
              "      return (VEGA_DEBUG[key] == version) ?\n",
              "        Promise.resolve(paths[lib]) :\n",
              "        new Promise(function(resolve, reject) {\n",
              "          var s = document.createElement('script');\n",
              "          document.getElementsByTagName(\"head\")[0].appendChild(s);\n",
              "          s.async = true;\n",
              "          s.onload = () => {\n",
              "            VEGA_DEBUG[key] = version;\n",
              "            return resolve(paths[lib]);\n",
              "          };\n",
              "          s.onerror = () => reject(`Error loading script: ${paths[lib]}`);\n",
              "          s.src = paths[lib];\n",
              "        });\n",
              "    }\n",
              "\n",
              "    function showError(err) {\n",
              "      outputDiv.innerHTML = `<div class=\"error\" style=\"color:red;\">${err}</div>`;\n",
              "      throw err;\n",
              "    }\n",
              "\n",
              "    function displayChart(vegaEmbed) {\n",
              "      vegaEmbed(outputDiv, spec, embedOpt)\n",
              "        .catch(err => showError(`Javascript Error: ${err.message}<br>This usually means there's a typo in your chart specification. See the javascript console for the full traceback.`));\n",
              "    }\n",
              "\n",
              "    if(typeof define === \"function\" && define.amd) {\n",
              "      requirejs.config({paths});\n",
              "      let deps = [\"vega-embed\"];\n",
              "      require(deps, displayChart, err => showError(`Error loading script: ${err.message}`));\n",
              "    } else {\n",
              "      maybeLoadScript(\"vega\", \"5\")\n",
              "        .then(() => maybeLoadScript(\"vega-lite\", \"5.20.1\"))\n",
              "        .then(() => maybeLoadScript(\"vega-embed\", \"6\"))\n",
              "        .catch(showError)\n",
              "        .then(() => displayChart(vegaEmbed));\n",
              "    }\n",
              "  })({\"config\": {\"view\": {\"continuousWidth\": 300, \"continuousHeight\": 300}}, \"data\": {\"name\": \"data-c910e4773327fdada90cfa22aa91258b\"}, \"mark\": {\"type\": \"line\", \"point\": true}, \"encoding\": {\"color\": {\"field\": \"Route ID\", \"scale\": {\"range\": [\"orange\", \"blue\"]}, \"type\": \"nominal\"}, \"tooltip\": [{\"field\": \"Month_Year\", \"type\": \"nominal\"}, {\"field\": \"Route ID\", \"type\": \"nominal\"}, {\"field\": \"Average Road Speed\", \"type\": \"quantitative\"}], \"x\": {\"field\": \"Month_Year\", \"sort\": [\"2023-01\", \"2023-02\", \"2023-03\", \"2023-04\", \"2023-05\", \"2023-06\", \"2023-07\", \"2023-08\", \"2023-09\", \"2023-10\", \"2023-11\", \"2023-12\", \"2024-01\", \"2024-02\", \"2024-03\", \"2024-04\", \"2024-05\", \"2024-06\", \"2024-07\", \"2024-08\", \"2024-09\", \"2024-10\", \"2024-11\", \"2024-12\", \"2025-01\", \"2025-02\", \"2025-03\", \"2025-04\", \"2025-05\", \"2025-06\", \"2025-07\"], \"title\": \"Month/Year\", \"type\": \"nominal\"}, \"y\": {\"field\": \"Average Road Speed\", \"scale\": {\"domain\": [0, 10]}, \"title\": \"Average Road Speed (mph)\", \"type\": \"quantitative\"}}, \"params\": [{\"name\": \"param_7\", \"select\": {\"type\": \"interval\", \"encodings\": [\"x\", \"y\"]}, \"bind\": \"scales\"}], \"title\": \"New York City of Technology: Bus Routes B26 (ACE) vs B52 (Non ACE)\", \"$schema\": \"https://vega.github.io/schema/vega-lite/v5.20.1.json\", \"datasets\": {\"data-c910e4773327fdada90cfa22aa91258b\": [{\"Month_Year\": \"2023-01\", \"Route ID\": \"B26\", \"Average Road Speed\": 7.622082007574829}, {\"Month_Year\": \"2023-01\", \"Route ID\": \"B52\", \"Average Road Speed\": 6.956906633603192}, {\"Month_Year\": \"2023-02\", \"Route ID\": \"B26\", \"Average Road Speed\": 7.6151398180919045}, {\"Month_Year\": \"2023-02\", \"Route ID\": \"B52\", \"Average Road Speed\": 6.921564156095959}, {\"Month_Year\": \"2023-03\", \"Route ID\": \"B26\", \"Average Road Speed\": 7.5987660455965225}, {\"Month_Year\": \"2023-03\", \"Route ID\": \"B52\", \"Average Road Speed\": 6.878646995206044}, {\"Month_Year\": \"2023-04\", \"Route ID\": \"B26\", \"Average Road Speed\": 7.4765244408953615}, {\"Month_Year\": \"2023-04\", \"Route ID\": \"B52\", \"Average Road Speed\": 6.849628621049202}, {\"Month_Year\": \"2023-05\", \"Route ID\": \"B26\", \"Average Road Speed\": 7.426674048350423}, {\"Month_Year\": \"2023-05\", \"Route ID\": \"B52\", \"Average Road Speed\": 6.747011336546005}, {\"Month_Year\": \"2023-06\", \"Route ID\": \"B26\", \"Average Road Speed\": 7.471229264426672}, {\"Month_Year\": \"2023-06\", \"Route ID\": \"B52\", \"Average Road Speed\": 6.852736457134309}, {\"Month_Year\": \"2023-07\", \"Route ID\": \"B26\", \"Average Road Speed\": 7.569753262359641}, {\"Month_Year\": \"2023-07\", \"Route ID\": \"B52\", \"Average Road Speed\": 6.850161086971958}, {\"Month_Year\": \"2023-08\", \"Route ID\": \"B26\", \"Average Road Speed\": 7.5658798487718855}, {\"Month_Year\": \"2023-08\", \"Route ID\": \"B52\", \"Average Road Speed\": 6.873059056589073}, {\"Month_Year\": \"2023-09\", \"Route ID\": \"B26\", \"Average Road Speed\": 7.633752438484213}, {\"Month_Year\": \"2023-09\", \"Route ID\": \"B52\", \"Average Road Speed\": 6.751906393549598}, {\"Month_Year\": \"2023-10\", \"Route ID\": \"B26\", \"Average Road Speed\": 7.592942049391561}, {\"Month_Year\": \"2023-10\", \"Route ID\": \"B52\", \"Average Road Speed\": 6.719216163446154}, {\"Month_Year\": \"2023-11\", \"Route ID\": \"B26\", \"Average Road Speed\": 7.739571347241005}, {\"Month_Year\": \"2023-11\", \"Route ID\": \"B52\", \"Average Road Speed\": 6.865832432333928}, {\"Month_Year\": \"2023-12\", \"Route ID\": \"B26\", \"Average Road Speed\": 7.685368753367766}, {\"Month_Year\": \"2023-12\", \"Route ID\": \"B52\", \"Average Road Speed\": 6.869092331941169}, {\"Month_Year\": \"2024-01\", \"Route ID\": \"B26\", \"Average Road Speed\": 7.785007347181969}, {\"Month_Year\": \"2024-01\", \"Route ID\": \"B52\", \"Average Road Speed\": 6.991902552238097}, {\"Month_Year\": \"2024-02\", \"Route ID\": \"B26\", \"Average Road Speed\": 7.673510803545551}, {\"Month_Year\": \"2024-02\", \"Route ID\": \"B52\", \"Average Road Speed\": 6.855115959564252}, {\"Month_Year\": \"2024-03\", \"Route ID\": \"B26\", \"Average Road Speed\": 7.5347658398891175}, {\"Month_Year\": \"2024-03\", \"Route ID\": \"B52\", \"Average Road Speed\": 6.750491542033484}, {\"Month_Year\": \"2024-04\", \"Route ID\": \"B26\", \"Average Road Speed\": 7.557056446147499}, {\"Month_Year\": \"2024-04\", \"Route ID\": \"B52\", \"Average Road Speed\": 6.7412816189343685}, {\"Month_Year\": \"2024-05\", \"Route ID\": \"B26\", \"Average Road Speed\": 7.406528346453176}, {\"Month_Year\": \"2024-05\", \"Route ID\": \"B52\", \"Average Road Speed\": 6.6099289162821915}, {\"Month_Year\": \"2024-06\", \"Route ID\": \"B26\", \"Average Road Speed\": 7.465987466638526}, {\"Month_Year\": \"2024-06\", \"Route ID\": \"B52\", \"Average Road Speed\": 6.65097220952014}, {\"Month_Year\": \"2024-07\", \"Route ID\": \"B26\", \"Average Road Speed\": 7.693133237600907}, {\"Month_Year\": \"2024-07\", \"Route ID\": \"B52\", \"Average Road Speed\": 6.980978172990087}, {\"Month_Year\": \"2024-08\", \"Route ID\": \"B26\", \"Average Road Speed\": 7.690606978791748}, {\"Month_Year\": \"2024-08\", \"Route ID\": \"B52\", \"Average Road Speed\": 6.913123911217045}, {\"Month_Year\": \"2024-09\", \"Route ID\": \"B26\", \"Average Road Speed\": 7.491954784271937}, {\"Month_Year\": \"2024-09\", \"Route ID\": \"B52\", \"Average Road Speed\": 6.810000496089633}, {\"Month_Year\": \"2024-10\", \"Route ID\": \"B26\", \"Average Road Speed\": 7.591301692413129}, {\"Month_Year\": \"2024-10\", \"Route ID\": \"B52\", \"Average Road Speed\": 6.951962248617385}, {\"Month_Year\": \"2024-11\", \"Route ID\": \"B26\", \"Average Road Speed\": 7.658090734960013}, {\"Month_Year\": \"2024-11\", \"Route ID\": \"B52\", \"Average Road Speed\": 7.039645596006611}, {\"Month_Year\": \"2024-12\", \"Route ID\": \"B26\", \"Average Road Speed\": 7.730726716168942}, {\"Month_Year\": \"2024-12\", \"Route ID\": \"B52\", \"Average Road Speed\": 7.057556624984465}, {\"Month_Year\": \"2025-01\", \"Route ID\": \"B26\", \"Average Road Speed\": 7.9096379204064995}, {\"Month_Year\": \"2025-01\", \"Route ID\": \"B52\", \"Average Road Speed\": 7.150857038272576}, {\"Month_Year\": \"2025-02\", \"Route ID\": \"B26\", \"Average Road Speed\": 7.833864532170011}, {\"Month_Year\": \"2025-02\", \"Route ID\": \"B52\", \"Average Road Speed\": 7.0581389645975365}, {\"Month_Year\": \"2025-03\", \"Route ID\": \"B26\", \"Average Road Speed\": 8.285277349024279}, {\"Month_Year\": \"2025-03\", \"Route ID\": \"B52\", \"Average Road Speed\": 7.087004723163061}, {\"Month_Year\": \"2025-04\", \"Route ID\": \"B26\", \"Average Road Speed\": 8.269356553812795}, {\"Month_Year\": \"2025-04\", \"Route ID\": \"B52\", \"Average Road Speed\": 6.793125603544725}, {\"Month_Year\": \"2025-05\", \"Route ID\": \"B26\", \"Average Road Speed\": 8.228381388258773}, {\"Month_Year\": \"2025-05\", \"Route ID\": \"B52\", \"Average Road Speed\": 6.73982665452383}, {\"Month_Year\": \"2025-06\", \"Route ID\": \"B26\", \"Average Road Speed\": 8.205796235536171}, {\"Month_Year\": \"2025-06\", \"Route ID\": \"B52\", \"Average Road Speed\": 6.766812108503967}, {\"Month_Year\": \"2025-07\", \"Route ID\": \"B26\", \"Average Road Speed\": 8.011482878049405}, {\"Month_Year\": \"2025-07\", \"Route ID\": \"B52\", \"Average Road Speed\": 6.801432051564904}]}}, {\"mode\": \"vega-lite\"});\n",
              "</script>"
            ],
            "text/plain": [
              "alt.Chart(...)"
            ]
          },
          "metadata": {}
        }
      ]
    },
    {
      "cell_type": "code",
      "source": [],
      "metadata": {
        "id": "cZWgMII-ySQF"
      },
      "execution_count": null,
      "outputs": []
    }
  ]
}